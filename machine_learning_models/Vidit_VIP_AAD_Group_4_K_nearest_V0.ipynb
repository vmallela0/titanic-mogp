{
  "nbformat": 4,
  "nbformat_minor": 0,
  "metadata": {
    "colab": {
      "provenance": []
    },
    "kernelspec": {
      "name": "python3",
      "display_name": "Python 3"
    },
    "language_info": {
      "name": "python"
    }
  },
  "cells": [
    {
      "cell_type": "markdown",
      "source": [
        "Make sure to put the train.csv and test.csv in a folder called data in the home directory."
      ],
      "metadata": {
        "id": "qNrHzRP5WQ0c"
      }
    },
    {
      "cell_type": "markdown",
      "source": [
        "# New Section"
      ],
      "metadata": {
        "id": "b5AUTfZyLk1g"
      }
    },
    {
      "cell_type": "markdown",
      "source": [
        "Ankith: Neural network\n",
        "\n",
        "Jenny: XGBoost\n",
        "\n",
        "Vedu: Random Forest\n",
        "\n",
        "Ethan: Support Vector Machines\n",
        "\n",
        "Vidit: k-Nearest Neighbors"
      ],
      "metadata": {
        "id": "wkb0TFGTUWEs"
      }
    },
    {
      "cell_type": "code",
      "source": [
        "import numpy as np\n",
        "import pandas as pd\n",
        "from sklearn.preprocessing import LabelEncoder, StandardScaler"
      ],
      "metadata": {
        "id": "rhxjBq04UTEo"
      },
      "execution_count": 1,
      "outputs": []
    },
    {
      "cell_type": "code",
      "source": [
        "train = pd.read_csv('./data/train.csv')\n",
        "test = pd.read_csv('./data/test.csv')"
      ],
      "metadata": {
        "id": "bj2Z4PTxVZwa",
        "outputId": "6f9bfa58-4920-425c-d930-1a028838cdc0",
        "colab": {
          "base_uri": "https://localhost:8080/",
          "height": 339
        }
      },
      "execution_count": 2,
      "outputs": [
        {
          "output_type": "error",
          "ename": "FileNotFoundError",
          "evalue": "ignored",
          "traceback": [
            "\u001b[0;31m---------------------------------------------------------------------------\u001b[0m",
            "\u001b[0;31mFileNotFoundError\u001b[0m                         Traceback (most recent call last)",
            "\u001b[0;32m<ipython-input-2-97fd6355938f>\u001b[0m in \u001b[0;36m<cell line: 1>\u001b[0;34m()\u001b[0m\n\u001b[0;32m----> 1\u001b[0;31m \u001b[0mtrain\u001b[0m \u001b[0;34m=\u001b[0m \u001b[0mpd\u001b[0m\u001b[0;34m.\u001b[0m\u001b[0mread_csv\u001b[0m\u001b[0;34m(\u001b[0m\u001b[0;34m'./data/train.csv'\u001b[0m\u001b[0;34m)\u001b[0m\u001b[0;34m\u001b[0m\u001b[0;34m\u001b[0m\u001b[0m\n\u001b[0m\u001b[1;32m      2\u001b[0m \u001b[0mtest\u001b[0m \u001b[0;34m=\u001b[0m \u001b[0mpd\u001b[0m\u001b[0;34m.\u001b[0m\u001b[0mread_csv\u001b[0m\u001b[0;34m(\u001b[0m\u001b[0;34m'./data/test.csv'\u001b[0m\u001b[0;34m)\u001b[0m\u001b[0;34m\u001b[0m\u001b[0;34m\u001b[0m\u001b[0m\n",
            "\u001b[0;32m/usr/local/lib/python3.10/dist-packages/pandas/util/_decorators.py\u001b[0m in \u001b[0;36mwrapper\u001b[0;34m(*args, **kwargs)\u001b[0m\n\u001b[1;32m    209\u001b[0m                 \u001b[0;32melse\u001b[0m\u001b[0;34m:\u001b[0m\u001b[0;34m\u001b[0m\u001b[0;34m\u001b[0m\u001b[0m\n\u001b[1;32m    210\u001b[0m                     \u001b[0mkwargs\u001b[0m\u001b[0;34m[\u001b[0m\u001b[0mnew_arg_name\u001b[0m\u001b[0;34m]\u001b[0m \u001b[0;34m=\u001b[0m \u001b[0mnew_arg_value\u001b[0m\u001b[0;34m\u001b[0m\u001b[0;34m\u001b[0m\u001b[0m\n\u001b[0;32m--> 211\u001b[0;31m             \u001b[0;32mreturn\u001b[0m \u001b[0mfunc\u001b[0m\u001b[0;34m(\u001b[0m\u001b[0;34m*\u001b[0m\u001b[0margs\u001b[0m\u001b[0;34m,\u001b[0m \u001b[0;34m**\u001b[0m\u001b[0mkwargs\u001b[0m\u001b[0;34m)\u001b[0m\u001b[0;34m\u001b[0m\u001b[0;34m\u001b[0m\u001b[0m\n\u001b[0m\u001b[1;32m    212\u001b[0m \u001b[0;34m\u001b[0m\u001b[0m\n\u001b[1;32m    213\u001b[0m         \u001b[0;32mreturn\u001b[0m \u001b[0mcast\u001b[0m\u001b[0;34m(\u001b[0m\u001b[0mF\u001b[0m\u001b[0;34m,\u001b[0m \u001b[0mwrapper\u001b[0m\u001b[0;34m)\u001b[0m\u001b[0;34m\u001b[0m\u001b[0;34m\u001b[0m\u001b[0m\n",
            "\u001b[0;32m/usr/local/lib/python3.10/dist-packages/pandas/util/_decorators.py\u001b[0m in \u001b[0;36mwrapper\u001b[0;34m(*args, **kwargs)\u001b[0m\n\u001b[1;32m    329\u001b[0m                     \u001b[0mstacklevel\u001b[0m\u001b[0;34m=\u001b[0m\u001b[0mfind_stack_level\u001b[0m\u001b[0;34m(\u001b[0m\u001b[0;34m)\u001b[0m\u001b[0;34m,\u001b[0m\u001b[0;34m\u001b[0m\u001b[0;34m\u001b[0m\u001b[0m\n\u001b[1;32m    330\u001b[0m                 )\n\u001b[0;32m--> 331\u001b[0;31m             \u001b[0;32mreturn\u001b[0m \u001b[0mfunc\u001b[0m\u001b[0;34m(\u001b[0m\u001b[0;34m*\u001b[0m\u001b[0margs\u001b[0m\u001b[0;34m,\u001b[0m \u001b[0;34m**\u001b[0m\u001b[0mkwargs\u001b[0m\u001b[0;34m)\u001b[0m\u001b[0;34m\u001b[0m\u001b[0;34m\u001b[0m\u001b[0m\n\u001b[0m\u001b[1;32m    332\u001b[0m \u001b[0;34m\u001b[0m\u001b[0m\n\u001b[1;32m    333\u001b[0m         \u001b[0;31m# error: \"Callable[[VarArg(Any), KwArg(Any)], Any]\" has no\u001b[0m\u001b[0;34m\u001b[0m\u001b[0;34m\u001b[0m\u001b[0m\n",
            "\u001b[0;32m/usr/local/lib/python3.10/dist-packages/pandas/io/parsers/readers.py\u001b[0m in \u001b[0;36mread_csv\u001b[0;34m(filepath_or_buffer, sep, delimiter, header, names, index_col, usecols, squeeze, prefix, mangle_dupe_cols, dtype, engine, converters, true_values, false_values, skipinitialspace, skiprows, skipfooter, nrows, na_values, keep_default_na, na_filter, verbose, skip_blank_lines, parse_dates, infer_datetime_format, keep_date_col, date_parser, dayfirst, cache_dates, iterator, chunksize, compression, thousands, decimal, lineterminator, quotechar, quoting, doublequote, escapechar, comment, encoding, encoding_errors, dialect, error_bad_lines, warn_bad_lines, on_bad_lines, delim_whitespace, low_memory, memory_map, float_precision, storage_options)\u001b[0m\n\u001b[1;32m    948\u001b[0m     \u001b[0mkwds\u001b[0m\u001b[0;34m.\u001b[0m\u001b[0mupdate\u001b[0m\u001b[0;34m(\u001b[0m\u001b[0mkwds_defaults\u001b[0m\u001b[0;34m)\u001b[0m\u001b[0;34m\u001b[0m\u001b[0;34m\u001b[0m\u001b[0m\n\u001b[1;32m    949\u001b[0m \u001b[0;34m\u001b[0m\u001b[0m\n\u001b[0;32m--> 950\u001b[0;31m     \u001b[0;32mreturn\u001b[0m \u001b[0m_read\u001b[0m\u001b[0;34m(\u001b[0m\u001b[0mfilepath_or_buffer\u001b[0m\u001b[0;34m,\u001b[0m \u001b[0mkwds\u001b[0m\u001b[0;34m)\u001b[0m\u001b[0;34m\u001b[0m\u001b[0;34m\u001b[0m\u001b[0m\n\u001b[0m\u001b[1;32m    951\u001b[0m \u001b[0;34m\u001b[0m\u001b[0m\n\u001b[1;32m    952\u001b[0m \u001b[0;34m\u001b[0m\u001b[0m\n",
            "\u001b[0;32m/usr/local/lib/python3.10/dist-packages/pandas/io/parsers/readers.py\u001b[0m in \u001b[0;36m_read\u001b[0;34m(filepath_or_buffer, kwds)\u001b[0m\n\u001b[1;32m    603\u001b[0m \u001b[0;34m\u001b[0m\u001b[0m\n\u001b[1;32m    604\u001b[0m     \u001b[0;31m# Create the parser.\u001b[0m\u001b[0;34m\u001b[0m\u001b[0;34m\u001b[0m\u001b[0m\n\u001b[0;32m--> 605\u001b[0;31m     \u001b[0mparser\u001b[0m \u001b[0;34m=\u001b[0m \u001b[0mTextFileReader\u001b[0m\u001b[0;34m(\u001b[0m\u001b[0mfilepath_or_buffer\u001b[0m\u001b[0;34m,\u001b[0m \u001b[0;34m**\u001b[0m\u001b[0mkwds\u001b[0m\u001b[0;34m)\u001b[0m\u001b[0;34m\u001b[0m\u001b[0;34m\u001b[0m\u001b[0m\n\u001b[0m\u001b[1;32m    606\u001b[0m \u001b[0;34m\u001b[0m\u001b[0m\n\u001b[1;32m    607\u001b[0m     \u001b[0;32mif\u001b[0m \u001b[0mchunksize\u001b[0m \u001b[0;32mor\u001b[0m \u001b[0miterator\u001b[0m\u001b[0;34m:\u001b[0m\u001b[0;34m\u001b[0m\u001b[0;34m\u001b[0m\u001b[0m\n",
            "\u001b[0;32m/usr/local/lib/python3.10/dist-packages/pandas/io/parsers/readers.py\u001b[0m in \u001b[0;36m__init__\u001b[0;34m(self, f, engine, **kwds)\u001b[0m\n\u001b[1;32m   1440\u001b[0m \u001b[0;34m\u001b[0m\u001b[0m\n\u001b[1;32m   1441\u001b[0m         \u001b[0mself\u001b[0m\u001b[0;34m.\u001b[0m\u001b[0mhandles\u001b[0m\u001b[0;34m:\u001b[0m \u001b[0mIOHandles\u001b[0m \u001b[0;34m|\u001b[0m \u001b[0;32mNone\u001b[0m \u001b[0;34m=\u001b[0m \u001b[0;32mNone\u001b[0m\u001b[0;34m\u001b[0m\u001b[0;34m\u001b[0m\u001b[0m\n\u001b[0;32m-> 1442\u001b[0;31m         \u001b[0mself\u001b[0m\u001b[0;34m.\u001b[0m\u001b[0m_engine\u001b[0m \u001b[0;34m=\u001b[0m \u001b[0mself\u001b[0m\u001b[0;34m.\u001b[0m\u001b[0m_make_engine\u001b[0m\u001b[0;34m(\u001b[0m\u001b[0mf\u001b[0m\u001b[0;34m,\u001b[0m \u001b[0mself\u001b[0m\u001b[0;34m.\u001b[0m\u001b[0mengine\u001b[0m\u001b[0;34m)\u001b[0m\u001b[0;34m\u001b[0m\u001b[0;34m\u001b[0m\u001b[0m\n\u001b[0m\u001b[1;32m   1443\u001b[0m \u001b[0;34m\u001b[0m\u001b[0m\n\u001b[1;32m   1444\u001b[0m     \u001b[0;32mdef\u001b[0m \u001b[0mclose\u001b[0m\u001b[0;34m(\u001b[0m\u001b[0mself\u001b[0m\u001b[0;34m)\u001b[0m \u001b[0;34m->\u001b[0m \u001b[0;32mNone\u001b[0m\u001b[0;34m:\u001b[0m\u001b[0;34m\u001b[0m\u001b[0;34m\u001b[0m\u001b[0m\n",
            "\u001b[0;32m/usr/local/lib/python3.10/dist-packages/pandas/io/parsers/readers.py\u001b[0m in \u001b[0;36m_make_engine\u001b[0;34m(self, f, engine)\u001b[0m\n\u001b[1;32m   1733\u001b[0m                 \u001b[0;32mif\u001b[0m \u001b[0;34m\"b\"\u001b[0m \u001b[0;32mnot\u001b[0m \u001b[0;32min\u001b[0m \u001b[0mmode\u001b[0m\u001b[0;34m:\u001b[0m\u001b[0;34m\u001b[0m\u001b[0;34m\u001b[0m\u001b[0m\n\u001b[1;32m   1734\u001b[0m                     \u001b[0mmode\u001b[0m \u001b[0;34m+=\u001b[0m \u001b[0;34m\"b\"\u001b[0m\u001b[0;34m\u001b[0m\u001b[0;34m\u001b[0m\u001b[0m\n\u001b[0;32m-> 1735\u001b[0;31m             self.handles = get_handle(\n\u001b[0m\u001b[1;32m   1736\u001b[0m                 \u001b[0mf\u001b[0m\u001b[0;34m,\u001b[0m\u001b[0;34m\u001b[0m\u001b[0;34m\u001b[0m\u001b[0m\n\u001b[1;32m   1737\u001b[0m                 \u001b[0mmode\u001b[0m\u001b[0;34m,\u001b[0m\u001b[0;34m\u001b[0m\u001b[0;34m\u001b[0m\u001b[0m\n",
            "\u001b[0;32m/usr/local/lib/python3.10/dist-packages/pandas/io/common.py\u001b[0m in \u001b[0;36mget_handle\u001b[0;34m(path_or_buf, mode, encoding, compression, memory_map, is_text, errors, storage_options)\u001b[0m\n\u001b[1;32m    854\u001b[0m         \u001b[0;32mif\u001b[0m \u001b[0mioargs\u001b[0m\u001b[0;34m.\u001b[0m\u001b[0mencoding\u001b[0m \u001b[0;32mand\u001b[0m \u001b[0;34m\"b\"\u001b[0m \u001b[0;32mnot\u001b[0m \u001b[0;32min\u001b[0m \u001b[0mioargs\u001b[0m\u001b[0;34m.\u001b[0m\u001b[0mmode\u001b[0m\u001b[0;34m:\u001b[0m\u001b[0;34m\u001b[0m\u001b[0;34m\u001b[0m\u001b[0m\n\u001b[1;32m    855\u001b[0m             \u001b[0;31m# Encoding\u001b[0m\u001b[0;34m\u001b[0m\u001b[0;34m\u001b[0m\u001b[0m\n\u001b[0;32m--> 856\u001b[0;31m             handle = open(\n\u001b[0m\u001b[1;32m    857\u001b[0m                 \u001b[0mhandle\u001b[0m\u001b[0;34m,\u001b[0m\u001b[0;34m\u001b[0m\u001b[0;34m\u001b[0m\u001b[0m\n\u001b[1;32m    858\u001b[0m                 \u001b[0mioargs\u001b[0m\u001b[0;34m.\u001b[0m\u001b[0mmode\u001b[0m\u001b[0;34m,\u001b[0m\u001b[0;34m\u001b[0m\u001b[0;34m\u001b[0m\u001b[0m\n",
            "\u001b[0;31mFileNotFoundError\u001b[0m: [Errno 2] No such file or directory: './data/train.csv'"
          ]
        }
      ]
    },
    {
      "cell_type": "code",
      "source": [
        "train['set'], test['set'] = 'train', 'test'\n",
        "combined = pd.concat([train, test])"
      ],
      "metadata": {
        "id": "MUVzwXTtWjlY"
      },
      "execution_count": null,
      "outputs": []
    },
    {
      "cell_type": "code",
      "source": [
        "combined.isnull().sum()"
      ],
      "metadata": {
        "id": "uusl22JqbkjE"
      },
      "execution_count": null,
      "outputs": []
    },
    {
      "cell_type": "code",
      "source": [
        "pclass = combined.loc[combined.Fare.isnull(), 'Pclass'].values[0]\n",
        "median_fare = combined.loc[combined.Pclass== pclass, 'Fare'].median()\n",
        "combined.loc[combined.Fare.isnull(), 'Fare'] = median_fare"
      ],
      "metadata": {
        "id": "ZgE8WqKlbovS"
      },
      "execution_count": null,
      "outputs": []
    },
    {
      "cell_type": "code",
      "source": [
        "combined['Title'] = combined['Name'].str.extract('([A-Za-z]+)\\.', expand=True)\n",
        "combined['Title'].unique()"
      ],
      "metadata": {
        "id": "M78GVtlGbtHO"
      },
      "execution_count": null,
      "outputs": []
    },
    {
      "cell_type": "code",
      "source": [
        "title_reduction = {'Mr': 'Mr', 'Mrs': 'Mrs', 'Miss': 'Miss',\n",
        "                   'Master': 'Master', 'Don': 'Mr', 'Rev': 'Rev',\n",
        "                   'Dr': 'Dr', 'Mme': 'Miss', 'Ms': 'Miss',\n",
        "                   'Major': 'Mr', 'Lady': 'Mrs', 'Sir': 'Mr',\n",
        "                   'Mlle': 'Miss', 'Col': 'Mr', 'Capt': 'Mr',\n",
        "                   'Countess': 'Mrs','Jonkheer': 'Mr',\n",
        "                   'Dona': 'Mrs'}\n",
        "combined['Title'] = combined['Title'].map(title_reduction)\n",
        "combined['Title'].unique()"
      ],
      "metadata": {
        "id": "loEWgdP5bvwf"
      },
      "execution_count": null,
      "outputs": []
    },
    {
      "cell_type": "code",
      "source": [
        "for title, age in combined.groupby('Title')['Age'].median().iteritems():\n",
        "    print(title, age)\n",
        "    combined.loc[(combined['Title']==title) & (combined['Age'].isnull()), 'Age'] = age"
      ],
      "metadata": {
        "id": "t67H02_5b1ae"
      },
      "execution_count": null,
      "outputs": []
    },
    {
      "cell_type": "code",
      "source": [
        "combined.isnull().sum()"
      ],
      "metadata": {
        "id": "uYdi-d-kb4xl"
      },
      "execution_count": null,
      "outputs": []
    },
    {
      "cell_type": "code",
      "source": [
        "def other_family_members_survived(dataset, label='family_survival'):\n",
        "    \"\"\"\n",
        "    Check if other family members survived\n",
        "      -> 0 other did not survive\n",
        "      -> 1 at least one other family member survived\n",
        "      -> 0.5 unknown if other members survived or person was alone\n",
        "\n",
        "    Parameters\n",
        "    ----------\n",
        "    dataset : DataFrame\n",
        "      The sub-dataframe containing the family\n",
        "    \"\"\"\n",
        "    ds = dataset.copy()\n",
        "    if len(dataset) == 1:\n",
        "        ds[label] = 0.5\n",
        "        return ds\n",
        "    result = []\n",
        "    for ix, row in dataset.iterrows():\n",
        "        survived_fraction = dataset.drop(ix)['Survived'].mean()\n",
        "        if np.isnan(survived_fraction):\n",
        "            result.append(0.5)\n",
        "        elif survived_fraction == 0:\n",
        "            result.append(0)\n",
        "        else:\n",
        "            result.append(1)\n",
        "    ds[label] = result\n",
        "    return ds"
      ],
      "metadata": {
        "id": "lVRsZWPMb43k"
      },
      "execution_count": null,
      "outputs": []
    },
    {
      "cell_type": "code",
      "source": [
        "combined['surname'] = combined['Name'].apply(lambda x: x.split(\",\")[0])\n",
        "combined = combined.groupby(['surname', 'Fare']).apply(other_family_members_survived).reset_index(drop=True)"
      ],
      "metadata": {
        "id": "Ha0pGfqOcL9D"
      },
      "execution_count": null,
      "outputs": []
    },
    {
      "cell_type": "code",
      "source": [
        "combined = combined.groupby(['Ticket']).apply(lambda x: other_family_members_survived(x, label='family_survival_ticket')).reset_index(drop=True)\n",
        "combined.loc[combined['family_survival'] == 0.5, 'family_survival'] = combined.loc[combined['family_survival'] == 0.5, 'family_survival_ticket']"
      ],
      "metadata": {
        "id": "dVf4_Q8XcMkh"
      },
      "execution_count": null,
      "outputs": []
    },
    {
      "cell_type": "code",
      "source": [
        "combined['family_size'] = combined['Parch'] + combined['SibSp']\n",
        "combined['Sex'] = LabelEncoder().fit_transform(combined['Sex'])\n",
        "combined.loc[:, 'Age'] = pd.qcut(combined['Age'], 4, labels=False)\n",
        "combined.loc[:, 'Fare'] = pd.qcut(combined['Fare'], 5, labels=False)"
      ],
      "metadata": {
        "id": "77Au8wg-cO03"
      },
      "execution_count": null,
      "outputs": []
    },
    {
      "cell_type": "code",
      "source": [
        "selected = ['Pclass', 'Sex', 'Age', 'Fare', 'family_size', 'family_survival']\n",
        "scaler  = StandardScaler()\n",
        "scaler.fit(combined[selected])\n",
        "combined[selected] = scaler.transform(combined[selected])"
      ],
      "metadata": {
        "id": "2ZwgN5PzcXgu"
      },
      "execution_count": null,
      "outputs": []
    },
    {
      "cell_type": "code",
      "source": [
        "combined.to_parquet('titanic_family_survivabillity.parquet', index=False)"
      ],
      "metadata": {
        "id": "ePMXWv_ZcdGT"
      },
      "execution_count": null,
      "outputs": []
    },
    {
      "cell_type": "code",
      "source": [
        "train = combined.loc[combined['set'] == 'train'].drop('set', axis=1).reset_index(drop=True)\n",
        "test = combined.loc[combined['set'] == 'test'].drop(['set', 'Survived'], axis=1).reset_index(drop=True)"
      ],
      "metadata": {
        "id": "m2Mw_aNqceqE"
      },
      "execution_count": null,
      "outputs": []
    },
    {
      "cell_type": "code",
      "source": [
        "def euclidean_distance(vector1, vector2):\n",
        "    return np.sqrt(np.sum((vector1 - vector2)**2))\n",
        "\n",
        "# test function\n",
        "vec1 = np.array([3, 0])\n",
        "vec2 = np.array([0, 4])\n",
        "\n",
        "# this is the 3:4:5 triangle and therefore, it should return 5 (Long live Pythagoras)\n",
        "euclidean_distance(vec1, vec2)"
      ],
      "metadata": {
        "id": "0xowf94PMoE3"
      },
      "execution_count": null,
      "outputs": []
    },
    {
      "cell_type": "code",
      "source": [
        "def get_nearest_neighbor(vector, dataset, number_of_neighbors=1, ignore_cols=['Survived']):\n",
        "    distances = []\n",
        "    for ix, row in dataset.loc[:, ~dataset.columns.isin(ignore_cols)].iterrows():\n",
        "        distance = euclidean_distance(row, vector)\n",
        "        distances.append((distance, ix))\n",
        "    indices = [x[1] for x in sorted(distances, key=lambda x: x[0])]\n",
        "    neighbors = dataset.loc[indices[:number_of_neighbors]]\n",
        "    return neighbors\n",
        "\n",
        "# Another implementation using Pandas\n",
        "def get_nearest_neighbor(vector, dataset, number_of_vectors=1, ignore_cols=['Survived'], not_count_duplicates=False):\n",
        "    ds = dataset.copy()\n",
        "    ds['distance'] = ds.loc[:, ~ds.columns.isin(ignore_cols)].apply(\n",
        "        lambda x: euclidean_distance(x, vector), axis=1)\n",
        "    if not_count_duplicates:\n",
        "        distances = sorted(ds.distance.unique())[:number_of_vectors]\n",
        "        return ds.loc[ds.distance <= max(distances)].drop('distance', axis=1)\n",
        "    return ds.sort_values('distance', ascending=True).head(number_of_vectors).drop('distance', axis=1)\n",
        "\n",
        "# test function\n",
        "dataset = pd.DataFrame([\n",
        "    {'a': 1, 'b': 1, 'Survived': 1},\n",
        "    {'a': 2, 'b': 2, 'Survived': 1},\n",
        "    {'a': 3, 'b': 3, 'Survived': 0},\n",
        "    {'a': 4, 'b': 4, 'Survived': 0},\n",
        "    {'a': 5, 'b': 5, 'Survived': 0},\n",
        "])\n",
        "vector = pd.Series({'a': 2.5, 'b': 2.5})\n",
        "\n",
        "# should be (2,2) and (3,3) (if keeping track of duplicates)\n",
        "get_nearest_neighbor(vector, dataset)"
      ],
      "metadata": {
        "id": "UbHHDmaCcgOF"
      },
      "execution_count": null,
      "outputs": []
    },
    {
      "cell_type": "code",
      "source": [
        "def predict(vector, dataset, number_of_neighbors=1, y='Survived'):\n",
        "    neighbors = get_nearest_neighbor(vector, dataset, number_of_neighbors)\n",
        "    return round(neighbors[y].mean())\n",
        "\n",
        "# test function\n",
        "print(predict(vector, dataset))\n",
        "print(predict(pd.Series({'a': 4.5, 'b': 4.5}), dataset))"
      ],
      "metadata": {
        "id": "JHBlQrC_ch6F"
      },
      "execution_count": null,
      "outputs": []
    },
    {
      "cell_type": "code",
      "source": [
        "def predict_dataset(dataset, number_of_neighbors=1):\n",
        "    ds = dataset.copy()\n",
        "    def predict_row(vector, dataset):\n",
        "        subset = dataset.loc[~(dataset.index==vector.name)]\n",
        "        if vector.name % 100 == 0:\n",
        "            print(vector.name)\n",
        "        return int(predict(vector, subset, number_of_neighbors))\n",
        "\n",
        "    ds['predicted'] = ds.loc[:, ds.columns.isin(selected)].apply(\n",
        "        lambda x: predict_row(x, ds), axis=1)\n",
        "\n",
        "    return ds\n",
        "\n",
        "ds = predict_dataset(train, number_of_neighbors=10)\n",
        "\n",
        "print('Accuracy:', sum(ds['Survived'] == ds['predicted']) / len(ds))"
      ],
      "metadata": {
        "id": "oLpDRbzqc4op"
      },
      "execution_count": null,
      "outputs": []
    },
    {
      "cell_type": "code",
      "source": [
        "def predict_testset(test_dataset, train_dataset, number_of_neighbors=1):\n",
        "    ds = test_dataset.copy()\n",
        "    select = selected + ['Survived']\n",
        "\n",
        "    def predict_row(vector, dataset):\n",
        "        if vector.name % 100 == 0:\n",
        "            print(vector.name)\n",
        "        return int(predict(vector, dataset[select], number_of_neighbors))\n",
        "\n",
        "    ds['Survived'] = ds.loc[:, ds.columns.isin(selected)].apply(\n",
        "        lambda x: predict_row(x, train_dataset), axis=1)\n",
        "\n",
        "    return ds"
      ],
      "metadata": {
        "id": "3yZfV3cGm9zr"
      },
      "execution_count": null,
      "outputs": []
    },
    {
      "cell_type": "code",
      "source": [
        "random.seed(12)\n",
        "np.random.seed(12)\n",
        "MLP_cls = MLPClassifier(hidden_layer_sizes=(10,10,10,10), max_iter = 200)\n",
        "MLP_cls.fit(X_train,y_train)\n",
        "y_pred = MLP_cls.predict(X_test)\n",
        "final_test = predict_testset(test, train, number_of_neighbors=10)\n",
        "result = final_test[['PassengerId', 'Survived']].copy()\n",
        "result\n",
        "result.to_csv('titanic_prediction_group_4_vidit.csv', index=False)"
      ],
      "metadata": {
        "id": "doGob9_PqNlU"
      },
      "execution_count": null,
      "outputs": []
    },
    {
      "cell_type": "markdown",
      "source": [
        "# New Section"
      ],
      "metadata": {
        "id": "18jlVLStnulo"
      }
    },
    {
      "cell_type": "code",
      "source": [],
      "metadata": {
        "id": "_a_j8obXo4v-"
      },
      "execution_count": null,
      "outputs": []
    }
  ]
}