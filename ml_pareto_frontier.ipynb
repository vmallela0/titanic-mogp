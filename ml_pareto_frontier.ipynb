{
 "cells": [
  {
   "cell_type": "markdown",
   "metadata": {},
   "source": [
    "# Pareto Frontier from ML Models\n",
    "This Jupyter Notebook file will plot the Pareto Frontier of the Machine Learning Models developed by each team member. We will use False Positive Rate as our objective on the y-axis, and False Negative Rate as our objective on the x axis, so we will want to minimize the AUC.  Objective values for plotting are copied directly from each other individuals notebook. "
   ]
  },
  {
   "cell_type": "code",
   "execution_count": 7,
   "metadata": {},
   "outputs": [],
   "source": [
    "import numpy as np\n",
    "import matplotlib.pylab as plt\n"
   ]
  },
  {
   "cell_type": "markdown",
   "metadata": {},
   "source": [
    "Below is the code I used to  calculate the objectives. I put this code in each of the machine learning files and then just copied over the objective values.\n",
    "```python\n",
    "\n",
    "confusion_matrix = confusion_matrix(y_test,MLP_cls.predict(X_test))\n",
    "print(confusion_matrix)\n",
    "FNR = confusion_matrix[0][1] / (confusion_matrix[0][0] + confusion_matrix[0][1])\n",
    "FPR = confusion_matrix[1][1] / (confusion_matrix[1][0] + confusion_matrix[1][1])\n",
    "print(FNR,FPR)\n",
    "```"
   ]
  },
  {
   "cell_type": "code",
   "execution_count": 8,
   "metadata": {},
   "outputs": [],
   "source": [
    "ankith_MLP = (0.06282722513089005, 0.6826923076923077)\n",
    "jenny_log = (0.13612565445026178, 0.7115384615384616)\n",
    "ethan_SVM = (0.14136125654450263,0.6730769230769231)"
   ]
  }
 ],
 "metadata": {
  "kernelspec": {
   "display_name": "Python 3",
   "language": "python",
   "name": "python3"
  },
  "language_info": {
   "codemirror_mode": {
    "name": "ipython",
    "version": 3
   },
   "file_extension": ".py",
   "mimetype": "text/x-python",
   "name": "python",
   "nbconvert_exporter": "python",
   "pygments_lexer": "ipython3",
   "version": "3.10.11"
  },
  "orig_nbformat": 4
 },
 "nbformat": 4,
 "nbformat_minor": 2
}
